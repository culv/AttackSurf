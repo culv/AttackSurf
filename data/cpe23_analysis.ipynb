{
 "cells": [
  {
   "cell_type": "code",
   "execution_count": 16,
   "id": "ea77161d",
   "metadata": {},
   "outputs": [],
   "source": [
    "\"\"\" Analyzing the CPE 2.3 dictionary from [https://nvd.nist.gov/products/cpe] to get a list of vendors/products\"\"\"\n",
    "\n",
    "import re\n",
    "\n",
    "CPE_DICT_XML = \"official-cpe-dictionary_v2.3.xml\"\n",
    "CPE23_REGEX = r\"name=\\\"cpe:2.3:(?P<part>a|h|o):(?P<vendor>[^:]*):(?P<product>[^:]*)?:(?P<version>[^:]*):(?P<update>[^:]*):(?P<edition>[^:]*):(?P<language>[^:]*):(?P<software_edition>[^:]*):(?P<target_software>[^:]*):(?P<target_hardware>[^:]*):(?P<other>[^:]*)\\\"/>\"\n",
    "\n",
    "with open(CPE_DICT_XML, 'r', encoding='utf-8') as f:\n",
    "    cpe_dict_str = f.read()\n",
    "    cpes = [cpe.groupdict() for cpe in  re.finditer(CPE23_REGEX, cpe_dict_str)]"
   ]
  },
  {
   "cell_type": "code",
   "execution_count": 17,
   "id": "777f9f37",
   "metadata": {},
   "outputs": [
    {
     "name": "stdout",
     "output_type": "stream",
     "text": [
      "<class 'dict'>\n",
      "{'part': 'a', 'vendor': '\\\\$0.99_kindle_books_project', 'product': '\\\\$0.99_kindle_books', 'version': '6', 'update': '*', 'edition': '*', 'language': '*', 'software_edition': '*', 'target_software': 'android', 'target_hardware': '*', 'other': '*'}\n"
     ]
    }
   ],
   "source": [
    "print(type(cpes[0]))\n",
    "print(cpes[0])"
   ]
  },
  {
   "cell_type": "code",
   "execution_count": null,
   "id": "dc252211",
   "metadata": {},
   "outputs": [],
   "source": []
  }
 ],
 "metadata": {
  "kernelspec": {
   "display_name": "Python 3 (ipykernel)",
   "language": "python",
   "name": "python3"
  },
  "language_info": {
   "codemirror_mode": {
    "name": "ipython",
    "version": 3
   },
   "file_extension": ".py",
   "mimetype": "text/x-python",
   "name": "python",
   "nbconvert_exporter": "python",
   "pygments_lexer": "ipython3",
   "version": "3.8.0"
  }
 },
 "nbformat": 4,
 "nbformat_minor": 5
}
